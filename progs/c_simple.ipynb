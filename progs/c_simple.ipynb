{
 "cells": [
  {
   "cell_type": "code",
   "execution_count": 1,
   "id": "53f78477-b635-4a44-970c-f8a5486a3107",
   "metadata": {},
   "outputs": [],
   "source": [
    "import os\n",
    "import numpy as np\n",
    "import matplotlib.pyplot as plt\n",
    "import datetime as dttm\n",
    "import romer_utils as ru\n",
    "from copy import deepcopy"
   ]
  },
  {
   "cell_type": "markdown",
   "id": "ddc9b15e-40c1-4952-aa83-f311db18342f",
   "metadata": {},
   "source": [
    "### EO 2020-7 - 2021-8 ###"
   ]
  },
  {
   "cell_type": "markdown",
   "id": "f93330f5-818e-47eb-bf00-9329a062d718",
   "metadata": {},
   "source": [
    "##### Stellarium #####"
   ]
  },
  {
   "cell_type": "code",
   "execution_count": 11,
   "id": "b5cddaee-9027-409e-a9fc-256094c0ca36",
   "metadata": {},
   "outputs": [
    {
     "name": "stdout",
     "output_type": "stream",
     "text": [
      "111.05440489124749\n",
      "111.04116345459235\n",
      "294446365.26200855\n"
     ]
    }
   ],
   "source": [
    "ei = ru.Event('e', dttm.datetime(2020, 7,15, 6,58,13), 4.139336694576587)\n",
    "ef = ru.Event('e', dttm.datetime(2021, 1,27,18,15,48), 6.071235856120145)\n",
    "\n",
    "oi = ru.Event('o', dttm.datetime(2021, 1,29,10,26,37), 6.071050576840264)\n",
    "of = ru.Event('o', dttm.datetime(2021, 8,13,21,10,28), 4.019206918371176)\n",
    "\n",
    "print((ef.t - ei.t)/ru.T)\n",
    "print((of.t - oi.t)/ru.T)\n",
    "print(ru.c_simple(ei,ef,oi,of))"
   ]
  },
  {
   "cell_type": "markdown",
   "id": "bd084901-43ff-4919-8ee1-3e0b217c6457",
   "metadata": {},
   "source": [
    "##### Horizon Ephemerids #####"
   ]
  },
  {
   "cell_type": "code",
   "execution_count": 12,
   "id": "09b9b0cf-c309-4a11-a483-7ca134483fcc",
   "metadata": {},
   "outputs": [
    {
     "name": "stdout",
     "output_type": "stream",
     "text": [
      "111.05438199350623\n",
      "111.04116672569825\n",
      "295037256.5317326\n"
     ]
    }
   ],
   "source": [
    "hrz_ei = ru.Event('e', dttm.datetime(2020, 7,15, 6,58, 8), 34.44889531*60*ru.C/ru.AU)\n",
    "hrz_ef = ru.Event('e', dttm.datetime(2021, 1,27,18,15,39,500000), 50.51624259*60*ru.C/ru.AU)\n",
    "\n",
    "hrz_oi = ru.Event('o', dttm.datetime(2021, 1,29,10,26,32), 50.51459782*60*ru.C/ru.AU)\n",
    "hrz_of = ru.Event('o', dttm.datetime(2021, 8,13,21,10,23,500000), 33.44928714*60*ru.C/ru.AU)\n",
    "\n",
    "print((hrz_ef.t - hrz_ei.t)/ru.T)\n",
    "print((hrz_of.t - hrz_oi.t)/ru.T)\n",
    "print(ru.c_simple(hrz_ei,hrz_ef,hrz_oi,hrz_of))"
   ]
  },
  {
   "cell_type": "markdown",
   "id": "c63e8aaf-3901-4400-96f1-fb48452b7344",
   "metadata": {},
   "source": [
    "### OE 2021-1 - 2022-3 ###"
   ]
  },
  {
   "cell_type": "markdown",
   "id": "775346ad-e5f1-44db-bac1-d08d1fbc211c",
   "metadata": {},
   "source": [
    "##### Stellarium #####"
   ]
  },
  {
   "cell_type": "code",
   "execution_count": 32,
   "id": "97e2ea17-3157-4cab-a45c-b18121585ad2",
   "metadata": {},
   "outputs": [
    {
     "name": "stdout",
     "output_type": "stream",
     "text": [
      "111.05509836569681\n",
      "111.04116345459235\n",
      "281678655.1915867\n"
     ]
    }
   ],
   "source": [
    "ei = ru.Event('e', dttm.datetime(2021, 8,21, 1,21,26), 4.013268014195689)\n",
    "ef = ru.Event('e', dttm.datetime(2022, 3, 5,12,40,47), 5.972013094394254)\n",
    "\n",
    "print((ef.t - ei.t)/ru.T)\n",
    "print((of.t - oi.t)/ru.T)\n",
    "print(ru.c_simple(ei,ef,oi,of))"
   ]
  },
  {
   "cell_type": "markdown",
   "id": "05f67864-8f75-421f-855a-426eb1a4f9c5",
   "metadata": {},
   "source": [
    "##### Horizon Ephemerids #####"
   ]
  },
  {
   "cell_type": "code",
   "execution_count": 13,
   "id": "7205aa56-6dc7-4a1e-9859-e2a40098b0af",
   "metadata": {},
   "outputs": [
    {
     "name": "stdout",
     "output_type": "stream",
     "text": [
      "111.05504275689663\n",
      "111.04116672569825\n",
      "282881069.48519135\n"
     ]
    }
   ],
   "source": [
    "hrz_ei = ru.Event('e', dttm.datetime(2021, 8,21, 1,21,25), 33.40042262*60*ru.C/ru.AU)\n",
    "hrz_ef = ru.Event('e', dttm.datetime(2022, 3, 5,12,40,37,500000), 49.691007125*60*ru.C/ru.AU)\n",
    "\n",
    "print((hrz_ef.t - hrz_ei.t)/ru.T)\n",
    "print((hrz_of.t - hrz_oi.t)/ru.T)\n",
    "print(ru.c_simple(hrz_ei,hrz_ef,hrz_oi,hrz_of))"
   ]
  },
  {
   "cell_type": "markdown",
   "id": "08cc592b-d76d-4f50-b430-539f60ec6dcb",
   "metadata": {},
   "source": [
    "### EO 2022-8 - 2022-9 ###"
   ]
  },
  {
   "cell_type": "markdown",
   "id": "0d14c59c-2576-4da8-8d33-a4fdcab5396e",
   "metadata": {},
   "source": [
    "##### Stellarium #####"
   ]
  },
  {
   "cell_type": "code",
   "execution_count": 35,
   "id": "dedeb687-b80b-41a0-92ca-91c87af0c68b",
   "metadata": {},
   "outputs": [
    {
     "name": "stdout",
     "output_type": "stream",
     "text": [
      "111.05509836569681\n",
      "111.04465045347436\n",
      "371684850.40304536\n"
     ]
    }
   ],
   "source": [
    "oi = ru.Event('o', dttm.datetime(2022, 3, 7, 4,53, 6), 5.971919545452375)\n",
    "of = ru.Event('o', dttm.datetime(2022, 9,19,15,45,50), 3.9628226816702252)\n",
    "\n",
    "print((ef.t - ei.t)/ru.T)\n",
    "print((of.t - oi.t)/ru.T)\n",
    "print(ru.c_simple(ei,ef,oi,of))"
   ]
  },
  {
   "cell_type": "markdown",
   "id": "dc7ecf55-41b6-4b64-aff1-4a94dda8ba80",
   "metadata": {},
   "source": [
    "##### Horizon Ephemerids #####"
   ]
  },
  {
   "cell_type": "code",
   "execution_count": 14,
   "id": "63dd4a37-5414-4a77-b0c9-ffc9e604340e",
   "metadata": {},
   "outputs": [
    {
     "name": "stdout",
     "output_type": "stream",
     "text": [
      "111.05504275689663\n",
      "111.04465372458026\n",
      "374167284.3476431\n"
     ]
    }
   ],
   "source": [
    "hrz_oi = ru.Event('o', dttm.datetime(2022, 3, 7, 4,53, 1), 49.69008802*ru.C*60/ru.AU)\n",
    "hrz_of = ru.Event('o', dttm.datetime(2022, 9,19,15,45,45,500000), 32.94795096*ru.C*60/ru.AU)\n",
    "\n",
    "print((hrz_ef.t - hrz_ei.t)/ru.T)\n",
    "print((hrz_of.t - hrz_oi.t)/ru.T)\n",
    "print(ru.c_simple(hrz_ei,hrz_ef,hrz_oi,hrz_of))"
   ]
  },
  {
   "cell_type": "markdown",
   "id": "ea3bf98a-03c9-4688-890f-8643fba2e671",
   "metadata": {},
   "source": [
    "### OE 2022-03 - 2023-4 ###"
   ]
  },
  {
   "cell_type": "code",
   "execution_count": 37,
   "id": "77c7db5c-cede-4729-9d58-9d0b96c92b2e",
   "metadata": {},
   "outputs": [
    {
     "name": "stdout",
     "output_type": "stream",
     "text": [
      "111.0549675214611\n",
      "111.04465045347436\n",
      "380496991.2497152\n"
     ]
    }
   ],
   "source": [
    "ei = ru.Event('e', dttm.datetime(2022, 9,26,19,53,37), 3.9526285269290273)\n",
    "ef = ru.Event('e', dttm.datetime(2023, 4,11, 7,12,38), 5.954576421959751)\n",
    "\n",
    "print((ef.t - ei.t)/ru.T)\n",
    "print((of.t - oi.t)/ru.T)\n",
    "print(ru.c_simple(ei,ef,oi,of))"
   ]
  },
  {
   "cell_type": "code",
   "execution_count": 15,
   "id": "3a0298ba-0ac2-4a42-917f-30be284cc71a",
   "metadata": {},
   "outputs": [
    {
     "name": "stdout",
     "output_type": "stream",
     "text": [
      "Event:\n",
      "kind: Emergence\n",
      "Series number: 1\n",
      "Time:2023-04-11 07:12:38\n",
      "Distance:5.954576421959751 AU\n",
      "\n"
     ]
    }
   ],
   "source": [
    "print(ef)"
   ]
  },
  {
   "cell_type": "markdown",
   "id": "8e0e0236-0593-42ae-b6d8-dde78dfbae8b",
   "metadata": {},
   "source": [
    "### EO 2022-09 - 2023-10 ###"
   ]
  },
  {
   "cell_type": "code",
   "execution_count": 16,
   "id": "7766fdfa-19b1-4aa3-bfae-3e4d3e93a797",
   "metadata": {},
   "outputs": [
    {
     "name": "stdout",
     "output_type": "stream",
     "text": [
      "111.0549675214611\n",
      "111.04564486966585\n",
      "416589497.5628047\n"
     ]
    }
   ],
   "source": [
    "oi = ru.Event('o',0, dttm.datetime(2023, 4,12,23,29,22), 5.955119749576216)\n",
    "of = ru.Event('o',1, dttm.datetime(2023,10,26,10,24,38), 3.9888291178870756)\n",
    "\n",
    "print((ef.t - ei.t)/ru.T)\n",
    "print((of.t - oi.t)/ru.T)\n",
    "print(ru.c_simplest(ei,ef,oi,of))"
   ]
  },
  {
   "cell_type": "markdown",
   "id": "86bf574b-c382-4423-9eb9-58cdca4324c5",
   "metadata": {},
   "source": [
    "### OE 2023-04 - 2024-05 ###"
   ]
  },
  {
   "cell_type": "code",
   "execution_count": 38,
   "id": "8ebd509f-553f-44d9-aef2-2e2a3da1a906",
   "metadata": {},
   "outputs": [
    {
     "name": "stdout",
     "output_type": "stream",
     "text": [
      "111.05390768315173\n",
      "111.04465045347436\n",
      "428509525.1971962\n"
     ]
    }
   ],
   "source": [
    "ei = ru.Event('e', dttm.datetime(2023,11, 4, 8,58, 6), 3.9833350898194135)\n",
    "ef = ru.Event('e', dttm.datetime(2024, 5,18,20,14,25), 6.0273773203093635)\n",
    "\n",
    "print((ef.t - ei.t)/ru.T)\n",
    "print((of.t - oi.t)/ru.T)\n",
    "print(ru.c_simple(ei,ef,oi,of))"
   ]
  },
  {
   "cell_type": "code",
   "execution_count": 39,
   "id": "ea648f68-0fd6-4092-ad5b-17c5b7063d11",
   "metadata": {},
   "outputs": [
    {
     "name": "stdout",
     "output_type": "stream",
     "text": [
      "Emergence (2024-05-18 20:14:25; 6.0273773203093635)\n"
     ]
    }
   ],
   "source": [
    "print(ef)"
   ]
  },
  {
   "cell_type": "markdown",
   "id": "6ea071eb-0c4e-49be-8380-ec74f2c3c210",
   "metadata": {},
   "source": [
    "### EO 2024-12 - 2026-1 ###"
   ]
  },
  {
   "cell_type": "code",
   "execution_count": 41,
   "id": "ca3ba74a-045d-495e-bfe4-48b261101c96",
   "metadata": {},
   "outputs": [
    {
     "name": "stdout",
     "output_type": "stream",
     "text": [
      "111.0516113668148\n",
      "111.04153636066415\n",
      "388176442.1581911\n"
     ]
    }
   ],
   "source": [
    "ei = ru.Event('e', dttm.datetime(2024,12, 8, 9, 1,31), 4.089971397422364)\n",
    "ef = ru.Event('e', dttm.datetime(2025, 6,22,20,11,59), 6.158122319533312)\n",
    "oi = ru.Event('o', dttm.datetime(2025, 6,26, 6,55, 4), 6.159594033124011)\n",
    "of = ru.Event('o', dttm.datetime(2026, 1, 8,17,39,52), 4.231754115750276)\n",
    "\n",
    "print((ef.t - ei.t)/ru.T)\n",
    "print((of.t - oi.t)/ru.T)\n",
    "print(ru.c_simple(ei,ef,oi,of))\n"
   ]
  },
  {
   "cell_type": "code",
   "execution_count": 42,
   "id": "f76a1120-3395-4db8-a15e-1d0f7b9da2c4",
   "metadata": {},
   "outputs": [
    {
     "name": "stdout",
     "output_type": "stream",
     "text": [
      "Occultation (2026-01-08 17:39:52; 4.231754115750276)\n"
     ]
    }
   ],
   "source": [
    "print(of)"
   ]
  },
  {
   "cell_type": "markdown",
   "id": "c76aeae4-b9f7-4381-ad9c-a7ba75614eca",
   "metadata": {},
   "source": [
    "### 2025 ###"
   ]
  },
  {
   "cell_type": "code",
   "execution_count": 43,
   "id": "f869d4a1-8a8c-42d7-be9b-875b6007d6bf",
   "metadata": {},
   "outputs": [],
   "source": [
    "ei = ru.Event('e', dttm.datetime(2024,12, 8, 9, 1,31), 4.089971372236405)\n",
    "ef = ru.Event('e', dttm.datetime(2025, 6,24,12,26,31), 6.159102966268411)\n",
    "oi = ru.Event('o', dttm.datetime(2025, 6,26, 6,55, 4), 6.159594037015)\n",
    "of = ru.Event('o', dttm.datetime(2026, 1, 8,17,39,54), 4.231754111430522)            "
   ]
  },
  {
   "cell_type": "code",
   "execution_count": 44,
   "id": "e8f4880a-db05-4817-895f-55b53e9264a0",
   "metadata": {},
   "outputs": [
    {
     "name": "stdout",
     "output_type": "stream",
     "text": [
      "111.99939467269539\n",
      "111.04154944508772\n"
     ]
    }
   ],
   "source": [
    "print((ef.t-ei.t)/ru.T)\n",
    "print((of.t-oi.t)/ru.T)"
   ]
  },
  {
   "cell_type": "code",
   "execution_count": 45,
   "id": "0312efcf-7332-4b1d-96e3-cb21a6db7dcf",
   "metadata": {},
   "outputs": [
    {
     "data": {
      "text/plain": [
       "4083999.92202151"
      ]
     },
     "execution_count": 45,
     "metadata": {},
     "output_type": "execute_result"
    }
   ],
   "source": [
    "ru.c_simple(ei,ef,oi,of)"
   ]
  },
  {
   "cell_type": "code",
   "execution_count": 23,
   "id": "d12fcd4a-00cb-4ec2-adfc-1744e110b416",
   "metadata": {},
   "outputs": [
    {
     "data": {
      "text/plain": [
       "110.04110787654056"
      ]
     },
     "execution_count": 23,
     "metadata": {},
     "output_type": "execute_result"
    }
   ],
   "source": [
    "(dttm.datetime(2026,1,6,23,11,13)-oi.t)/ru.T"
   ]
  },
  {
   "cell_type": "code",
   "execution_count": 46,
   "id": "17464c1b-d684-47eb-92a2-c3612248781a",
   "metadata": {},
   "outputs": [
    {
     "name": "stdout",
     "output_type": "stream",
     "text": [
      "Emergence (2024-12-08 09:01:31.024359; 4.089971397422364)\n"
     ]
    }
   ],
   "source": [
    "print(ru.EMERGS[0])"
   ]
  },
  {
   "cell_type": "code",
   "execution_count": 47,
   "id": "93c3dfec-d120-41f2-98db-b3d9701aa9ca",
   "metadata": {},
   "outputs": [
    {
     "name": "stdout",
     "output_type": "stream",
     "text": [
      "Occultation (2025-06-26 06:55:03.981003; 6.159594033124011)\n",
      "Occultation (2025-06-28 01:23:42.930068; 6.159460337353805)\n",
      "Occultation (2025-06-29 19:52:17.287524; 6.158647977055316)\n",
      "Occultation (2025-07-01 14:20:54.374842; 6.157187813374568)\n",
      "Occultation (2025-07-03 08:49:27.441331; 6.155146340519968)\n",
      "Occultation (2025-07-05 03:18:05.797728; 6.152516282798436)\n",
      "Occultation (2025-07-06 21:46:39.320811; 6.149233893286631)\n",
      "Occultation (2025-07-08 16:15:15.804979; 6.145292023095571)\n",
      "Occultation (2025-07-10 10:43:47.930278; 6.140757231991779)\n",
      "Occultation (2025-07-12 05:12:25.693150; 6.1356602628386945)\n",
      "Occultation (2025-07-13 23:40:58.331034; 6.1299477059483225)\n",
      "Occultation (2025-07-15 18:09:34.063920; 6.123575853341309)\n",
      "Occultation (2025-07-17 12:38:05.118437; 6.11658831620569)\n",
      "Occultation (2025-07-19 07:06:42.220663; 6.109042797358098)\n",
      "Occultation (2025-07-21 01:35:14.080627; 6.100915575363667)\n",
      "Occultation (2025-07-22 20:03:49.220046; 6.092143230656481)\n",
      "Occultation (2025-07-24 14:32:19.351372; 6.0827359382440855)\n",
      "Occultation (2025-07-26 09:00:55.839806; 6.072764201878219)\n",
      "Occultation (2025-07-28 03:29:26.949873; 6.0622475783467165)\n",
      "Occultation (2025-07-29 21:58:01.447161; 6.051128885447222)\n",
      "Occultation (2025-07-31 16:26:30.578538; 6.039383376460213)\n",
      "Occultation (2025-08-02 10:55:06.281885; 6.027070582104532)\n",
      "Occultation (2025-08-04 05:23:36.552332; 6.014245785372288)\n",
      "Occultation (2025-08-05 23:52:10.484286; 6.0008755081962475)\n",
      "Occultation (2025-08-07 18:20:38.826166; 5.9869080432025745)\n",
      "Occultation (2025-08-09 12:49:13.912572; 5.972370519154778)\n",
      "Occultation (2025-08-11 07:17:43.469843; 5.957335774084967)\n",
      "Occultation (2025-08-13 01:46:16.885945; 5.941805642014096)\n",
      "Occultation (2025-08-14 20:14:44.473460; 5.925719624528301)\n",
      "Occultation (2025-08-16 14:43:18.864196; 5.909064631239625)\n",
      "Occultation (2025-08-18 09:11:47.572368; 5.891909409779146)\n",
      "Occultation (2025-08-20 03:40:20.321528; 5.874294614979446)\n",
      "Occultation (2025-08-21 22:08:47.143760; 5.856178714328522)\n",
      "Occultation (2025-08-23 16:37:20.945336; 5.8375192894581565)\n",
      "Occultation (2025-08-25 11:05:48.999868; 5.8183646397367506)\n",
      "Occultation (2025-08-27 05:34:21.235893; 5.798785676610346)\n",
      "Occultation (2025-08-29 00:02:47.413085; 5.778776766338165)\n",
      "Occultation (2025-08-30 18:31:20.667455; 5.758281259875894)\n",
      "Occultation (2025-09-01 12:59:48.076065; 5.737311527333349)\n",
      "Occultation (2025-09-03 07:28:19.725822; 5.71594414730944)\n",
      "Occultation (2025-09-05 01:56:45.151502; 5.694213378063757)\n",
      "Occultation (2025-09-06 20:25:17.782626; 5.6720689252988725)\n",
      "Occultation (2025-09-08 14:53:44.641570; 5.649484663559024)\n",
      "Occultation (2025-09-10 09:22:15.914775; 5.626518151707381)\n",
      "Occultation (2025-09-12 03:50:40.802713; 5.603234661454834)\n",
      "Occultation (2025-09-13 22:19:12.926742; 5.579610402542683)\n",
      "Occultation (2025-09-15 16:47:39.319721; 5.555596328662946)\n",
      "Occultation (2025-09-17 11:16:10.247870; 5.531218032190316)\n",
      "Occultation (2025-09-19 05:44:34.570793; 5.50655888218535)\n",
      "Occultation (2025-09-21 00:13:06.063467; 5.481638407547415)\n",
      "Occultation (2025-09-22 18:41:31.895390; 5.456410218437688)\n",
      "Occultation (2025-09-24 13:10:02.510664; 5.430864543381194)\n",
      "Occultation (2025-09-26 07:38:26.469216; 5.405078666839947)\n",
      "Occultation (2025-09-28 02:06:57.567484; 5.37911117903709)\n",
      "Occultation (2025-09-29 20:35:23.049701; 5.352937796577423)\n",
      "Occultation (2025-10-01 15:03:53.502104; 5.326518706150538)\n",
      "Occultation (2025-10-03 09:32:17.208955; 5.299902272412368)\n",
      "Occultation (2025-10-05 04:00:47.944827; 5.273168881541997)\n",
      "Occultation (2025-10-06 22:29:13.047821; 5.246329836560105)\n",
      "Occultation (2025-10-08 16:57:43.253993; 5.219333336810282)\n",
      "Occultation (2025-10-10 11:26:06.702487; 5.192186901498266)\n",
      "Occultation (2025-10-12 05:54:37.203802; 5.164969809022843)\n",
      "Occultation (2025-10-14 00:23:02.184600; 5.137734543267332)\n",
      "Occultation (2025-10-15 18:51:32.380583; 5.110445858689833)\n",
      "Occultation (2025-10-17 13:19:55.756091; 5.083080950389748)\n",
      "Occultation (2025-10-19 07:48:26.149338; 5.055700661411606)\n",
      "Occultation (2025-10-21 02:16:51.109902; 5.028390620933851)\n",
      "Occultation (2025-10-22 20:45:21.321703; 5.001151608975682)\n",
      "Occultation (2025-10-24 15:13:44.595187; 4.9739449152757675)\n",
      "Occultation (2025-10-26 09:42:14.853992; 4.946795295005566)\n",
      "Occultation (2025-10-28 04:10:39.918179; 4.919796759806413)\n",
      "Occultation (2025-10-29 22:39:10.407061; 4.89299110159349)\n",
      "Occultation (2025-10-31 17:07:33.898544; 4.8663445735094015)\n",
      "Occultation (2025-11-02 11:36:04.276554; 4.839842569448901)\n",
      "Occultation (2025-11-04 06:04:29.653178; 4.813560894465505)\n",
      "Occultation (2025-11-06 00:33:00.563484; 4.787573345575281)\n",
      "Occultation (2025-11-07 19:01:24.367141; 4.76187207129248)\n",
      "Occultation (2025-11-09 13:29:54.865078; 4.736417072430074)\n",
      "Occultation (2025-11-11 07:58:20.526533; 4.711250526966771)\n",
      "Occultation (2025-11-13 02:26:51.893900; 4.686464663970037)\n",
      "Occultation (2025-11-14 20:55:16.224679; 4.662095714399092)\n",
      "Occultation (2025-11-16 15:23:47.158360; 4.638105415215498)\n",
      "Occultation (2025-11-18 09:52:13.418169; 4.614498906030878)\n",
      "Occultation (2025-11-20 04:20:45.480656; 4.591359930031786)\n",
      "Occultation (2025-11-21 22:49:10.550953; 4.568762932485036)\n",
      "Occultation (2025-11-23 17:17:42.075676; 4.546691591812621)\n",
      "Occultation (2025-11-25 11:46:09.021734; 4.525118218471483)\n",
      "Occultation (2025-11-27 06:14:41.777557; 4.504094101156158)\n",
      "Occultation (2025-11-29 00:43:07.626066; 4.4837126450670475)\n",
      "Occultation (2025-11-30 19:11:39.903075; 4.463991598137087)\n",
      "Occultation (2025-12-02 13:40:07.840087; 4.444890163396269)\n",
      "Occultation (2025-12-04 08:08:41.605130; 4.426414876395313)\n",
      "Occultation (2025-12-06 02:37:08.502505; 4.4086514086690745)\n",
      "Occultation (2025-12-07 21:05:41.732111; 4.391655869857813)\n",
      "Occultation (2025-12-09 15:34:10.810059; 4.375402609502716)\n",
      "Occultation (2025-12-11 10:02:45.649771; 4.359864183155578)\n",
      "Occultation (2025-12-13 04:31:13.609895; 4.345100634487335)\n",
      "Occultation (2025-12-14 22:59:47.766745; 4.331195390278687)\n",
      "Occultation (2025-12-16 17:28:18.048387; 4.318156488228491)\n",
      "Occultation (2025-12-18 11:56:54.164636; 4.305938695424349)\n",
      "Occultation (2025-12-20 06:25:23.510161; 4.2945576877598635)\n",
      "Occultation (2025-12-22 00:53:58.875367; 4.284095355559832)\n",
      "Occultation (2025-12-23 19:22:30.546126; 4.2745949534142245)\n",
      "Occultation (2025-12-25 13:51:08.068110; 4.26601486114643)\n",
      "Occultation (2025-12-27 08:19:38.894713; 4.258325512914219)\n",
      "Occultation (2025-12-29 02:48:15.463974; 4.251579403027719)\n",
      "Occultation (2025-12-30 21:16:48.486347; 4.245842611865952)\n",
      "Occultation (2026-01-01 15:45:27.325906; 4.241097777810648)\n",
      "Occultation (2026-01-03 10:13:59.704725; 4.2372874095185695)\n",
      "Occultation (2026-01-05 04:42:37.661162; 4.234420662652387)\n",
      "Occultation (2026-01-06 23:11:12.213165; 4.232568892893299)\n",
      "Occultation (2026-01-08 17:39:52.481602; 4.231754115750276)\n"
     ]
    }
   ],
   "source": [
    "for e in ru.OCCULS:\n",
    "    print(e)"
   ]
  },
  {
   "cell_type": "code",
   "execution_count": null,
   "id": "760b56c0-b754-4592-9e83-731b811ce5be",
   "metadata": {},
   "outputs": [],
   "source": []
  }
 ],
 "metadata": {
  "kernelspec": {
   "display_name": "Python 3 (ipykernel)",
   "language": "python",
   "name": "python3"
  },
  "language_info": {
   "codemirror_mode": {
    "name": "ipython",
    "version": 3
   },
   "file_extension": ".py",
   "mimetype": "text/x-python",
   "name": "python",
   "nbconvert_exporter": "python",
   "pygments_lexer": "ipython3",
   "version": "3.10.12"
  }
 },
 "nbformat": 4,
 "nbformat_minor": 5
}
