{
 "cells": [
  {
   "cell_type": "code",
   "execution_count": 1,
   "id": "4fdb2ec4-17cd-4a74-9c4d-cfde541ce47c",
   "metadata": {},
   "outputs": [],
   "source": [
    "import requests\n",
    "import datetime as dttm"
   ]
  },
  {
   "cell_type": "code",
   "execution_count": 62,
   "id": "1091aac0-208e-48d2-8d47-94b05a8c4483",
   "metadata": {},
   "outputs": [],
   "source": [
    "evtime = dttm.datetime.fromisoformat(\"2020-07-15 06:58:13\")\n",
    "start_time = evtime-dttm.timedelta(minutes=3)\n",
    "stop_time = evtime+dttm.timedelta(minutes=3)\n",
    "with open(\"horizons_script_templ.txt\",'r') as file:\n",
    "    filedata = file.readlines()\n",
    "filedata[-3]=filedata[-3][:11]+\"'\"+str(start_time)+\"'\\n\"\n",
    "filedata[-2]=filedata[-2][:10]+\"'\"+str(stop_time)+\"'\\n\"\n",
    "with open(\"horizons_script.txt\",'w') as file:\n",
    "    file.writelines(filedata)"
   ]
  },
  {
   "cell_type": "code",
   "execution_count": 66,
   "id": "e1769546-9fe7-4966-9842-537d78f674ef",
   "metadata": {},
   "outputs": [],
   "source": [
    "f = open(\"horizons_script.txt\")\n",
    "url = 'https://ssd.jpl.nasa.gov/api/horizons_file.api'\n",
    "r = requests.post(url, data={'format':'text'}, files={'input': f})"
   ]
  },
  {
   "cell_type": "code",
   "execution_count": 67,
   "id": "93f3be57-7f33-4e10-8fd1-f562034853c7",
   "metadata": {},
   "outputs": [
    {
     "name": "stdout",
     "output_type": "stream",
     "text": [
      "t1: 2020-07-15 06:58:55\n",
      "t2: 2020-07-15 06:59:54\n",
      "mt: 2020-07-15 06:59:24.500000\n"
     ]
    }
   ],
   "source": [
    "set_t1 = False\n",
    "set_t2 = False\n",
    "for line in r.text.split('\\n'):\n",
    "    if line[-2:]==\"/p\" and not set_t1:\n",
    "        t1 = dttm.datetime.strptime(line[1:21],\"%Y-%b-%d %H:%M:%S\")\n",
    "        set_t1 = True\n",
    "    if line[-2:]==\"/*\":\n",
    "        t2 = dttm.datetime.strptime(prevline[1:21],\"%Y-%b-%d %H:%M:%S\")\n",
    "        set_t2 = True\n",
    "        break\n",
    "    prevline = line\n",
    "if not(set_t1 and set_t2):\n",
    "    raise ValueError(\"Could't set t1 or t2: (\"+str(t1)+', '+str(t2)+')')\n",
    "print(\"t1:\",t1)\n",
    "print(\"t2:\",t2)\n",
    "print(\"mt:\",t1+(t2-t1)/2)"
   ]
  },
  {
   "cell_type": "code",
   "execution_count": null,
   "id": "0f953df6-b58b-4dcc-b581-98e56f83b3fd",
   "metadata": {},
   "outputs": [],
   "source": []
  }
 ],
 "metadata": {
  "kernelspec": {
   "display_name": "Python 3 (ipykernel)",
   "language": "python",
   "name": "python3"
  },
  "language_info": {
   "codemirror_mode": {
    "name": "ipython",
    "version": 3
   },
   "file_extension": ".py",
   "mimetype": "text/x-python",
   "name": "python",
   "nbconvert_exporter": "python",
   "pygments_lexer": "ipython3",
   "version": "3.10.12"
  }
 },
 "nbformat": 4,
 "nbformat_minor": 5
}
