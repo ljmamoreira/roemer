{
 "cells": [
  {
   "cell_type": "markdown",
   "id": "45eab78a-a789-4580-88a2-609bdf29769e",
   "metadata": {},
   "source": [
    "Neste notebook corre-se o modelo simples numa configuração inicial semelhate à da oposição de 2024-12-07. Os valores iniciais dos ângulos da Terra e de Io são, respetivamente 0 e -87,8099 (este valor foi obtido com o sistema Horizons da NASA). Pretende-se comparar os tempos das emergências e das ocultações calculados com o modelo com os simulados no stellarium."
   ]
  },
  {
   "cell_type": "code",
   "execution_count": 1,
   "id": "e27ea1c6-7f89-4dba-bd07-c5517e5e0ac6",
   "metadata": {},
   "outputs": [],
   "source": [
    "import os\n",
    "import numpy as np\n",
    "import matplotlib.pyplot as plt\n",
    "import datetime as dttm\n",
    "import romer_utils as ru"
   ]
  },
  {
   "cell_type": "code",
   "execution_count": 2,
   "id": "67fcad46-0649-4013-9c53-5c12b81c4c42",
   "metadata": {},
   "outputs": [],
   "source": [
    "import model_errest as mde"
   ]
  },
  {
   "cell_type": "code",
   "execution_count": 9,
   "id": "db366d6a-8d50-4dc2-b47c-cac0c84fbf8a",
   "metadata": {},
   "outputs": [],
   "source": [
    "em, oc = (mde.emerg, mde.occul)"
   ]
  },
  {
   "cell_type": "markdown",
   "id": "cacd4ddc-592d-4ecb-89a3-ade66c59e948",
   "metadata": {},
   "source": [
    "stellarium data"
   ]
  },
  {
   "cell_type": "code",
   "execution_count": 5,
   "id": "8b559d2f-4318-431d-9bd4-9444baefe73a",
   "metadata": {},
   "outputs": [],
   "source": [
    "file = open(\"../data/all_events.dat\",'r')\n",
    "text = file.read()\n",
    "file.close()\n",
    "lines = text.split('\\n')\n",
    "ti = dttm.datetime.fromisoformat(lines[932][4:])\n",
    "t=[]\n",
    "for i,line in enumerate(lines[933:-1]):\n",
    "    if line[0]==\"E\":\n",
    "        timestr = line[2:21]\n",
    "        time = dttm.datetime.fromisoformat(timestr)\n",
    "        t.append(time)\n"
   ]
  },
  {
   "cell_type": "code",
   "execution_count": 6,
   "id": "e40d27a6-9951-44ac-8d4e-8bb806ca9b98",
   "metadata": {},
   "outputs": [
    {
     "data": {
      "text/plain": [
       "43280.0"
      ]
     },
     "execution_count": 6,
     "metadata": {},
     "output_type": "execute_result"
    }
   ],
   "source": [
    "(t[0]-ti).total_seconds()"
   ]
  },
  {
   "cell_type": "code",
   "execution_count": 10,
   "id": "a3b2c799-2e86-4810-a1f1-9eb53372733e",
   "metadata": {},
   "outputs": [
    {
     "data": {
      "text/plain": [
       "[45194.758160205994, 4.202779643430031, 4.202711592187653, 4.200042028891751]"
      ]
     },
     "execution_count": 10,
     "metadata": {},
     "output_type": "execute_result"
    }
   ],
   "source": [
    "em[0]"
   ]
  },
  {
   "cell_type": "code",
   "execution_count": null,
   "id": "c901f9b2-cef4-4c1f-9bed-3632595250c3",
   "metadata": {},
   "outputs": [],
   "source": []
  }
 ],
 "metadata": {
  "kernelspec": {
   "display_name": "Python 3 (ipykernel)",
   "language": "python",
   "name": "python3"
  },
  "language_info": {
   "codemirror_mode": {
    "name": "ipython",
    "version": 3
   },
   "file_extension": ".py",
   "mimetype": "text/x-python",
   "name": "python",
   "nbconvert_exporter": "python",
   "pygments_lexer": "ipython3",
   "version": "3.10.12"
  }
 },
 "nbformat": 4,
 "nbformat_minor": 5
}
